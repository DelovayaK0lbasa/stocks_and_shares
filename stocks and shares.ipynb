{
 "cells": [
  {
   "cell_type": "code",
   "execution_count": 3,
   "id": "ed252615",
   "metadata": {},
   "outputs": [],
   "source": [
    "import requests\n",
    "import pandas as pd\n",
    "import matplotlib.pyplot as plt"
   ]
  },
  {
   "cell_type": "code",
   "execution_count": 16,
   "id": "c77f2aec",
   "metadata": {
    "collapsed": true
   },
   "outputs": [
    {
     "name": "stdout",
     "output_type": "stream",
     "text": [
      "Collecting tinkoff-investments\n",
      "  Downloading tinkoff_investments-0.2.0b57-py3-none-any.whl (177 kB)\n",
      "Requirement already satisfied: tinkoff<0.2.0,>=0.1.1 in c:\\users\\dima\\anaconda3\\lib\\site-packages (from tinkoff-investments) (0.1.1)\n",
      "Requirement already satisfied: pydantic<2.0.0,>=1.9.2 in c:\\users\\dima\\anaconda3\\lib\\site-packages (from tinkoff-investments) (1.10.7)\n",
      "Collecting protobuf<5.0.0,>=4.21.6\n",
      "  Downloading protobuf-4.23.0-cp38-cp38-win_amd64.whl (422 kB)\n",
      "Collecting deprecation<3.0.0,>=2.1.0\n",
      "  Downloading deprecation-2.1.0-py2.py3-none-any.whl (11 kB)\n",
      "Collecting codecov<3.0.0,>=2.1.13\n",
      "  Downloading codecov-2.1.13-py2.py3-none-any.whl (16 kB)\n",
      "Collecting grpcio<2.0.0,>=1.39.0\n",
      "  Downloading grpcio-1.54.2-cp38-cp38-win_amd64.whl (4.1 MB)\n",
      "Requirement already satisfied: python-dateutil<3.0.0,>=2.8.2 in c:\\users\\dima\\anaconda3\\lib\\site-packages (from tinkoff-investments) (2.8.2)\n",
      "Collecting cachetools<6.0.0,>=5.2.0\n",
      "  Downloading cachetools-5.3.0-py3-none-any.whl (9.3 kB)\n",
      "Requirement already satisfied: coverage in c:\\users\\dima\\anaconda3\\lib\\site-packages (from codecov<3.0.0,>=2.1.13->tinkoff-investments) (7.2.5)\n",
      "Requirement already satisfied: requests>=2.7.9 in c:\\users\\dima\\anaconda3\\lib\\site-packages (from codecov<3.0.0,>=2.1.13->tinkoff-investments) (2.25.1)\n",
      "Requirement already satisfied: packaging in c:\\users\\dima\\anaconda3\\lib\\site-packages (from deprecation<3.0.0,>=2.1.0->tinkoff-investments) (20.9)\n",
      "Requirement already satisfied: typing-extensions>=4.2.0 in c:\\users\\dima\\appdata\\roaming\\python\\python38\\site-packages (from pydantic<2.0.0,>=1.9.2->tinkoff-investments) (4.5.0)\n",
      "Requirement already satisfied: six>=1.5 in c:\\users\\dima\\anaconda3\\lib\\site-packages (from python-dateutil<3.0.0,>=2.8.2->tinkoff-investments) (1.15.0)\n",
      "Requirement already satisfied: chardet<5,>=3.0.2 in c:\\users\\dima\\anaconda3\\lib\\site-packages (from requests>=2.7.9->codecov<3.0.0,>=2.1.13->tinkoff-investments) (4.0.0)\n",
      "Requirement already satisfied: idna<3,>=2.5 in c:\\users\\dima\\anaconda3\\lib\\site-packages (from requests>=2.7.9->codecov<3.0.0,>=2.1.13->tinkoff-investments) (2.10)\n",
      "Requirement already satisfied: urllib3<1.27,>=1.21.1 in c:\\users\\dima\\anaconda3\\lib\\site-packages (from requests>=2.7.9->codecov<3.0.0,>=2.1.13->tinkoff-investments) (1.26.4)\n",
      "Requirement already satisfied: certifi>=2017.4.17 in c:\\users\\dima\\anaconda3\\lib\\site-packages (from requests>=2.7.9->codecov<3.0.0,>=2.1.13->tinkoff-investments) (2022.12.7)\n",
      "Requirement already satisfied: pyparsing>=2.0.2 in c:\\users\\dima\\anaconda3\\lib\\site-packages (from packaging->deprecation<3.0.0,>=2.1.0->tinkoff-investments) (2.4.7)\n",
      "Installing collected packages: protobuf, grpcio, deprecation, codecov, cachetools, tinkoff-investments\n",
      "Successfully installed cachetools-5.3.0 codecov-2.1.13 deprecation-2.1.0 grpcio-1.54.2 protobuf-4.23.0 tinkoff-investments-0.2.0b57\n"
     ]
    }
   ],
   "source": [
    "# !pip install tinkoff-investments"
   ]
  },
  {
   "cell_type": "code",
   "execution_count": null,
   "id": "7ed762fd",
   "metadata": {},
   "outputs": [],
   "source": [
    "# %env INVEST_TOKEN <<ВАШ ТОКЕН>>"
   ]
  },
  {
   "cell_type": "code",
   "execution_count": 40,
   "id": "4658604f",
   "metadata": {},
   "outputs": [],
   "source": [
    "import os\n",
    "from datetime import timedelta\n",
    "\n",
    "from tinkoff.invest import CandleInterval, Client\n",
    "from tinkoff.invest.utils import now\n",
    "\n",
    "TOKEN = os.environ[\"INVEST_TOKEN\"]\n",
    "\n",
    "def main(FIGI):\n",
    "    candles = []\n",
    "    with Client(TOKEN) as client:\n",
    "        for candle in client.get_all_candles(\n",
    "            figi=FIGI,\n",
    "            from_=now() - timedelta(days=365),\n",
    "            interval=CandleInterval.CANDLE_INTERVAL_DAY,\n",
    "        ):\n",
    "            candles.append(candle)\n",
    "\n",
    "    return candles\n",
    "\n",
    "\n",
    "if __name__ == \"__main__\":\n",
    "    figi = \"BBG004730N88\" # акция Сбербанка\n",
    "    res = main(figi)"
   ]
  },
  {
   "cell_type": "code",
   "execution_count": 67,
   "id": "a0f1a5d2",
   "metadata": {},
   "outputs": [],
   "source": [
    "proc_res = list(map(lambda x:\n",
    "                    [x.time.strftime(\"%d/%m/%y\"), \n",
    "                    x.open.units, \n",
    "                    x.close.units, \n",
    "                    x.high.units, \n",
    "                    x.low.units], res))\n"
   ]
  },
  {
   "cell_type": "code",
   "execution_count": 96,
   "id": "04e2aec8",
   "metadata": {},
   "outputs": [],
   "source": [
    "# Построим график для Сбера за последние 100 дней\n",
    "prices = pd.DataFrame(proc_res[-100:-1], columns=['date', 'open', 'close', 'high', 'low'])"
   ]
  },
  {
   "cell_type": "code",
   "execution_count": 98,
   "id": "eed77d0a",
   "metadata": {},
   "outputs": [
    {
     "data": {
      "image/png": "[encoded data removed]",
      "text/plain": [
       "<Figure size 1512x576 with 1 Axes>"
      ]
     },
     "metadata": {
      "needs_background": "light"
     },
     "output_type": "display_data"
    }
   ],
   "source": [
    "plt.figure(figsize=(21, 8))\n",
    "\n",
    "width = .4\n",
    "width2 = .05\n",
    "\n",
    "up = prices[prices['close'] >=prices['open']]\n",
    "down = prices[prices['close'] < prices['open']]\n",
    "\n",
    "col1 = 'green'\n",
    "col2 = 'red'\n",
    "\n",
    "plt.bar(up.index, up['close'] - up['open'], width, bottom=up['open'], color=col1)\n",
    "plt.bar(up.index, up['high'] - up['close'], width2, bottom=up['close'], color=col1)\n",
    "plt.bar(up.index, up['low'] - up['open'], width2, bottom=up['open'], color=col1)\n",
    "\n",
    "plt.bar(down.index, down['close'] - down['open'], width, bottom=down['open'], color=col2)\n",
    "plt.bar(down.index, down['high'] - down['close'], width2, bottom=down['close'], color=col2)\n",
    "plt.bar(down.index, down['low'] - down['open'], width2, bottom=down['open'], color=col2)\n",
    "\n",
    "plt.xticks(rotation=45, ha='right')\n",
    "\n",
    "plt.show() "
   ]
  }
 ],
 "metadata": {
  "kernelspec": {
   "display_name": "Python 3",
   "language": "python",
   "name": "python3"
  },
  "language_info": {
   "codemirror_mode": {
    "name": "ipython",
    "version": 3
   },
   "file_extension": ".py",
   "mimetype": "text/x-python",
   "name": "python",
   "nbconvert_exporter": "python",
   "pygments_lexer": "ipython3",
   "version": "3.8.8"
  }
 },
 "nbformat": 4,
 "nbformat_minor": 5
}
